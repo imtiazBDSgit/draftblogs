{
 "cells": [
  {
   "cell_type": "markdown",
   "id": "legislative-raleigh",
   "metadata": {},
   "source": [
    "### Overview \n",
    "\n",
    "Inference speed of huge models is an issue in deep learning. There are many ways to boost the inference speed. This notebook discusses few of the vast possibilites to increase inference speed.\n",
    "\n",
    "There are primarily three methods as per the survey to increase inference speed namely :\n",
    "\n",
    "1. **Quantization**\n",
    "2. **ONXX runtime**\n",
    "3. **Pruning**"
   ]
  },
  {
   "cell_type": "markdown",
   "id": "coated-sense",
   "metadata": {},
   "source": [
    "##### 1.Quantization\n",
    "\n",
    "1. Quantization refers to techniques for performing computations and storing tensors at lower bitwidths than floating point precision.\n",
    "\n",
    "2. A quantized model executes some or all of the operations on tensors with integers rather than floating point values.\n",
    "\n",
    "3. This allows for a more compact model representation and the use of high performance vectorized operations on many hardware platforms. \n",
    "\n",
    "4. `PyTorch supports INT8 quantization compared to typical FP32 models allowing for a 4x reduction in the model size and a 4x reduction in memory bandwidth requirements.`"
   ]
  },
  {
   "cell_type": "markdown",
   "id": "elder-microwave",
   "metadata": {},
   "source": [
    "#### 2.ONNX Runtime\n",
    "\n",
    "The `open neural network exchange (onnx)` runtime provides an easy way to run machine learned models with high performance on CPU or GPU without dependencies on the training framework. Machine learning frameworks are usually optimized for batch training rather than for prediction, which is a more common scenario in applications, sites, and services. At a high level, you can:\n",
    "\n",
    "1. Train a model using your favorite framework.\n",
    "\n",
    "2. Convert or export the model into ONNX format.\n",
    "\n",
    "3. Load and run the model using ONNX Runtime."
   ]
  },
  {
   "cell_type": "markdown",
   "id": "civilian-walter",
   "metadata": {},
   "source": [
    "#### 3.Pruning\n",
    "\n",
    "1. If we take an insider look, there are few neurons that do not activate at all and that means they don’t impact output at all. On the other hand, few neurons’ activation strength could be very low and hence has a very small impact on the final output.\n",
    "\n",
    "2. There is a way where we decide weight thresholds, and if weight associated with a neuron falls in that range, we simply, prune that neuron.\n",
    "\n",
    "3. To prune a neuron, we need to set incoming and outgoing weights as zero for that neuron. As incoming and outgoing weights are zero, that neuron won’t have any impact on the final output.`pruning will make the model sparse which is easier to compress than a dense model.`\n",
    "\n",
    "4. `After pruning, it’s advisable to fine-tune the neural network a bit before using it in production, particularly when the threshold range is slightly higher and we cared more about removing more weights.`\n",
    "\n",
    "5. Pruning would slightly decrease performance but will increase inference latency. `According to the Deep Compression research,  pruning can decrease the number of effective neurons by 9 to 13 times.`"
   ]
  },
  {
   "cell_type": "markdown",
   "id": "supported-shanghai",
   "metadata": {},
   "source": [
    "#### Quick Demo\n",
    "\n",
    "We will demonstrate inference speed boost taking a pretrained hugging face model with quantization and onnx runtime\n",
    "\n",
    "1. ONNX runtime\n",
    "2. quantization\n",
    "3. quantization+onnx runtime"
   ]
  },
  {
   "cell_type": "markdown",
   "id": "stuck-entrepreneur",
   "metadata": {},
   "source": [
    "##### ONNX runtime\n",
    "1. Conversion of models to onnx format\n",
    "2. Inference on onnx runtime"
   ]
  },
  {
   "cell_type": "code",
   "execution_count": null,
   "id": "missing-landing",
   "metadata": {},
   "outputs": [],
   "source": []
  }
 ],
 "metadata": {
  "kernelspec": {
   "display_name": "Python 3",
   "language": "python",
   "name": "python3"
  },
  "language_info": {
   "codemirror_mode": {
    "name": "ipython",
    "version": 3
   },
   "file_extension": ".py",
   "mimetype": "text/x-python",
   "name": "python",
   "nbconvert_exporter": "python",
   "pygments_lexer": "ipython3",
   "version": "3.9.1"
  }
 },
 "nbformat": 4,
 "nbformat_minor": 5
}
